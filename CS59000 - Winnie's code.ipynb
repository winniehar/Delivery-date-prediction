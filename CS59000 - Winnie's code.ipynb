{
 "cells": [
  {
   "cell_type": "code",
   "execution_count": 38,
   "id": "93c372da",
   "metadata": {},
   "outputs": [],
   "source": [
    "import pandas as pd\n",
    "import numpy as np\n",
    "import matplotlib.pyplot as plt\n",
    "import datetime as dt\n",
    "from datetime import datetime, date, time\n",
    "from pandas.tseries.offsets import *\n",
    "from pandas.tseries.holiday import USFederalHolidayCalendar as calendar\n",
    "from pandas.tseries.offsets import CustomBusinessDay\n",
    "from uszipcode import SearchEngine, Zipcode\n",
    "from sklearn.metrics import mean_squared_error\n",
    "from sklearn.metrics import mean_absolute_error\n",
    "from sklearn.metrics import accuracy_score"
   ]
  },
  {
   "cell_type": "code",
   "execution_count": 251,
   "id": "d451932d",
   "metadata": {},
   "outputs": [],
   "source": [
    "df = pd.read_csv(r'C:\\Users\\winni\\Desktop\\GradSchool\\Machine Learning\\Project\\train.tsv', sep='\\t',nrows = 300000)"
   ]
  },
  {
   "cell_type": "code",
   "execution_count": null,
   "id": "cf0f992e",
   "metadata": {},
   "outputs": [],
   "source": [
    "df.shape"
   ]
  },
  {
   "cell_type": "code",
   "execution_count": null,
   "id": "e0c0f854",
   "metadata": {},
   "outputs": [],
   "source": [
    "'''#US federal holidays for 2018 and 2019\n",
    "# Exclude weekends and US federal holidays\n",
    "dr = pd.date_range(start='2018-01-01', end='2020-12-31')\n",
    "fed_hol = pd.DataFrame()\n",
    "fed_hol['Date'] = dr\n",
    "\n",
    "cal = calendar()\n",
    "holidays = cal.holidays(start=dr.min(), end=dr.max())\n",
    "\n",
    "fed_hol['Holiday'] = fed_hol['Date'].isin(holidays)\n",
    "hld = fed_hol[fed_hol['Holiday']==1].values.astype('datetime64[D]')\n",
    "print(hld.flatten())'''"
   ]
  },
  {
   "cell_type": "code",
   "execution_count": 164,
   "id": "0dd1fa34",
   "metadata": {},
   "outputs": [],
   "source": [
    "dr = pd.date_range(start='2018-01-01', end='2020-12-31')\n",
    "fed_hol = pd.DataFrame()\n",
    "fed_hol['Date'] = dr\n",
    "\n",
    "cal = calendar()\n",
    "holidays = cal.holidays(start=dr.min(), end=dr.max())\n",
    "\n",
    "fed_hol['Holiday'] = fed_hol['Date'].isin(holidays)\n",
    "hld = fed_hol[fed_hol['Holiday']==1].values.astype('datetime64[D]')\n",
    "\n",
    "handling_time = []\n",
    "delivery_time = []\n",
    "total_time_bd = []\n",
    "total_time_cd = []\n",
    "\n",
    "counter = 0\n",
    "for t in range(df.shape[0]):\n",
    "    counter += 1\n",
    "    if counter % 500000 == 0:\n",
    "      print(counter)\n",
    "    \n",
    "    acceptance_time = datetime.fromisoformat(df['acceptance_scan_timestamp'][t][0:10])\n",
    "    payment_time = datetime.fromisoformat(df['payment_datetime'][t][0:10])\n",
    "    handling_time.append(np.busday_count(df['payment_datetime'][t][0:10], df['acceptance_scan_timestamp'][t][0:10], holidays = hld.flatten()))\n",
    "    #total_time_bd.append(np.busday_count(df['payment_datetime'][t][0:10], df['delivery_date'][t],holidays = hld.flatten()))\n",
    "        #if payment is made past cutoff on a weekday, it is considered next business day\n",
    "    if payment_time.hour >= 14 and payment_time.weekday() < 5:\n",
    "        handling_time[t] = handling_time[t] - 1\n",
    "        #total_time_bd[t] = total_time_bd[t] - 1\n",
    "    delivery = abs(datetime.fromisoformat(df['delivery_date'][t]) - acceptance_time)\n",
    "    total = datetime.fromisoformat(df['delivery_date'][t]) - payment_time\n",
    "    delivery_time.append(delivery.days)\n",
    "    #print(delivery)\n",
    "    #delivery_time_seconds.append(delivery.days)\n",
    "    total_time_cd.append(total.days)\n",
    "    if datetime.fromisoformat(df['delivery_date'][t]) < acceptance_time:\n",
    "        total_time_bd.append((datetime.fromisoformat(df['delivery_date'][t]) - payment_time).days)\n",
    "    else: total_time_bd.append(delivery.days + handling_time[t])\n",
    "    \n",
    "df['delivery_time_buss_days'] = total_time_bd\n",
    "df['seller_handling_days'] = handling_time"
   ]
  },
  {
   "cell_type": "code",
   "execution_count": 165,
   "id": "23f8a4fd",
   "metadata": {},
   "outputs": [
    {
     "name": "stdout",
     "output_type": "stream",
     "text": [
      "0 9.0 23.428284005130262\n"
     ]
    }
   ],
   "source": [
    "# Solving missing weights\n",
    "tmp = df[df['weight'] > 0].copy()\n",
    "mean = np.mean(tmp['weight'])\n",
    "median = np.median(tmp['weight'])\n",
    "\n",
    "new_weight = np.where(df['weight'] > 0, df['weight'], median)\n",
    "df['new_weight'] = new_weight\n",
    "# Number of rows with unavailable weight\n",
    "print(len(df[df['new_weight'] == 0]), median, mean)"
   ]
  },
  {
   "cell_type": "code",
   "execution_count": 166,
   "id": "e92ab8d8",
   "metadata": {},
   "outputs": [
    {
     "data": {
      "text/plain": [
       "array(['2018-01-01', '2018-01-15', '2018-02-19', '2018-05-28',\n",
       "       '2018-07-04', '2018-09-03', '2018-10-08', '2018-11-12',\n",
       "       '2018-11-22', '2018-12-25', '2019-01-01', '2019-01-21',\n",
       "       '2019-02-18', '2019-05-27', '2019-07-04', '2019-09-02',\n",
       "       '2019-10-14', '2019-11-11', '2019-11-28', '2019-12-25',\n",
       "       '2020-01-01', '2020-01-20', '2020-02-17', '2020-05-25',\n",
       "       '2020-07-03', '2020-09-07', '2020-10-12', '2020-11-11',\n",
       "       '2020-11-26', '2020-12-25'], dtype='datetime64[D]')"
      ]
     },
     "execution_count": 166,
     "metadata": {},
     "output_type": "execute_result"
    }
   ],
   "source": [
    "hld_dt64 = hld[:,0]\n",
    "hld_dt64"
   ]
  },
  {
   "cell_type": "code",
   "execution_count": 4,
   "id": "92dbb2c2",
   "metadata": {},
   "outputs": [
    {
     "data": {
      "text/plain": [
       "Index(['b2c_c2c', 'seller_id', 'declared_handling_days',\n",
       "       'acceptance_scan_timestamp', 'shipment_method_id', 'shipping_fee',\n",
       "       'carrier_min_estimate', 'carrier_max_estimate', 'item_zip', 'buyer_zip',\n",
       "       'category_id', 'item_price', 'quantity', 'payment_datetime',\n",
       "       'delivery_date', 'weight', 'weight_units', 'package_size',\n",
       "       'record_number', 'delivery_time_buss_days', 'seller_handling_days'],\n",
       "      dtype='object')"
      ]
     },
     "execution_count": 4,
     "metadata": {},
     "output_type": "execute_result"
    }
   ],
   "source": [
    "df.columns"
   ]
  },
  {
   "cell_type": "code",
   "execution_count": 213,
   "id": "b82cad33",
   "metadata": {},
   "outputs": [],
   "source": [
    "def add_business_days(start_date, business_days_to_add):\n",
    "    del_date = []\n",
    "    for i in range(len(start_date)):\n",
    "        start = datetime.fromisoformat(start_date[i])\n",
    "        start_date.append(np.datetime64(start))          \n",
    "        del_date.append((start + BusinessDay(business_days_to_add)).to_datetime64())\n",
    "        hol = sum((((del_date[i] > hld_dt64)+0 + (start_date[i] < hld_dt64)+0)-2) > 0)\n",
    "        del_date[i] += BusinessDay(hol)\n",
    "    \n",
    "    return del_date"
   ]
  },
  {
   "cell_type": "code",
   "execution_count": 131,
   "id": "4a3b2e0a",
   "metadata": {},
   "outputs": [
    {
     "name": "stderr",
     "output_type": "stream",
     "text": [
      "C:\\Users\\winni\\AppData\\Local\\Temp/ipykernel_4484/1459306813.py:5: DeprecationWarning: parsing timezone aware datetimes is deprecated; this will raise an error in the future\n",
      "  start_date.append(np.datetime64(start))\n"
     ]
    },
    {
     "data": {
      "text/plain": [
       "[numpy.datetime64('2019-03-24T10:56:49.000000'),\n",
       " numpy.datetime64('2018-06-01T20:43:54.000000'),\n",
       " numpy.datetime64('2019-01-06T05:02:00.000000'),\n",
       " numpy.datetime64('2018-12-16T18:28:28.000000'),\n",
       " numpy.datetime64('2018-07-27T01:20:02.000000')]"
      ]
     },
     "execution_count": 131,
     "metadata": {},
     "output_type": "execute_result"
    }
   ],
   "source": [
    "start_date = []\n",
    "del_date = []\n",
    "for i in range(len(test)):\n",
    "    start = datetime.fromisoformat(df['payment_datetime'][i])\n",
    "    start_date.append(np.datetime64(start))\n",
    "    del_date.append((start + BusinessDay()).to_datetime64())\n",
    "    \n",
    "start_date"
   ]
  },
  {
   "cell_type": "code",
   "execution_count": 130,
   "id": "fc00d73b",
   "metadata": {},
   "outputs": [
    {
     "data": {
      "text/plain": [
       "numpy.datetime64('2019-03-24T10:56:49.000000')"
      ]
     },
     "execution_count": 130,
     "metadata": {},
     "output_type": "execute_result"
    }
   ],
   "source": [
    "start_date[0] = np.datetime64(start_date[0])\n",
    "start_date[0]"
   ]
  },
  {
   "cell_type": "code",
   "execution_count": 160,
   "id": "81bca894",
   "metadata": {},
   "outputs": [
    {
     "data": {
      "text/plain": [
       "0"
      ]
     },
     "execution_count": 160,
     "metadata": {},
     "output_type": "execute_result"
    }
   ],
   "source": [
    "hol = sum((((del_date[0] > hld_extract)+0 + (start_date[0] < hld_extract)+0)-2) > 0)"
   ]
  },
  {
   "cell_type": "code",
   "execution_count": 145,
   "id": "48ac851a",
   "metadata": {},
   "outputs": [
    {
     "data": {
      "text/plain": [
       "array([0, 0, 0, 0, 0, 0, 0, 0, 0, 0, 0, 0, 0, 1, 1, 1, 1, 1, 1, 1, 1, 1,\n",
       "       1, 1, 1, 1, 1, 1, 1, 1])"
      ]
     },
     "execution_count": 145,
     "metadata": {},
     "output_type": "execute_result"
    }
   ],
   "source": []
  },
  {
   "cell_type": "code",
   "execution_count": null,
   "id": "0a8e266b",
   "metadata": {},
   "outputs": [],
   "source": []
  },
  {
   "cell_type": "code",
   "execution_count": 168,
   "id": "57878834",
   "metadata": {},
   "outputs": [
    {
     "data": {
      "text/plain": [
       "(array([187046.,  40821.,  24900.,  14087.,  10495.,  18052.,   1468.,\n",
       "          1494.,    646.,    991.]),\n",
       " array([ 0. ,  3.1,  6.2,  9.3, 12.4, 15.5, 18.6, 21.7, 24.8, 27.9, 31. ]),\n",
       " <BarContainer object of 10 artists>)"
      ]
     },
     "execution_count": 168,
     "metadata": {},
     "output_type": "execute_result"
    },
    {
     "data": {
      "image/png": "[encoded data removed]",
      "text/plain": [
       "<Figure size 432x288 with 1 Axes>"
      ]
     },
     "metadata": {
      "needs_background": "light"
     },
     "output_type": "display_data"
    }
   ],
   "source": [
    "# Histogram to help evaluate the weight subtitution\n",
    "quant = df['weight'].quantile(0.85)\n",
    "\n",
    "series = df['weight'].copy()\n",
    "series = np.where(series < quant, series, 0)\n",
    "plt.hist(series)#, bins = np.arange(20))"
   ]
  },
  {
   "cell_type": "code",
   "execution_count": 169,
   "id": "f38c46d4",
   "metadata": {},
   "outputs": [
    {
     "name": "stdout",
     "output_type": "stream",
     "text": [
      "0 1.0 1.00872\n"
     ]
    }
   ],
   "source": [
    "# Solving missing declared_handling_days values by substituting with the mean/median. Mean might be better in this case.\n",
    "\n",
    "tmp = df[df['seller_handling_days'].notnull()].copy()\n",
    "mean = np.mean(tmp['seller_handling_days'])\n",
    "median = np.median(tmp['seller_handling_days'])\n",
    "\n",
    "df['new_declared_handling_days'] = df['seller_handling_days']\n",
    "df['new_declared_handling_days'].fillna(mean, inplace = True)\n",
    "\n",
    "# Number of rows with unavailable declared handling days after the substitution\n",
    "print(len(df[df['new_declared_handling_days'].isna()]), median, mean)"
   ]
  },
  {
   "cell_type": "code",
   "execution_count": 170,
   "id": "0285b22b",
   "metadata": {},
   "outputs": [
    {
     "data": {
      "text/plain": [
       "(array([ 92396.,      0.,      0.,      0.,      0., 156321.,      0.,\n",
       "             0.,      0.,  51283.]),\n",
       " array([0. , 0.2, 0.4, 0.6, 0.8, 1. , 1.2, 1.4, 1.6, 1.8, 2. ]),\n",
       " <BarContainer object of 10 artists>)"
      ]
     },
     "execution_count": 170,
     "metadata": {},
     "output_type": "execute_result"
    },
    {
     "data": {
      "image/png": "[encoded data removed]",
      "text/plain": [
       "<Figure size 432x288 with 1 Axes>"
      ]
     },
     "metadata": {
      "needs_background": "light"
     },
     "output_type": "display_data"
    }
   ],
   "source": [
    "# Histogram to help evaluate the handling days subtitution\n",
    "quant = df['declared_handling_days'].quantile(0.95)\n",
    "\n",
    "series = df['declared_handling_days'].copy()\n",
    "series = np.where(series < quant, series, 0)\n",
    "plt.hist(series)#, bins = np.arange(20))"
   ]
  },
  {
   "cell_type": "code",
   "execution_count": 171,
   "id": "625b35d5",
   "metadata": {},
   "outputs": [],
   "source": [
    "# setting the numerical variables as numerical variables (they come as strings)\n",
    "\n",
    "df['shipment_method_id'] = df['shipment_method_id'].astype(int)\n",
    "df['shipping_fee'] = df['shipping_fee'].astype(float)\n",
    "df['carrier_min_estimate'] = df['carrier_min_estimate'].astype(int)\n",
    "df['carrier_max_estimate'] = df['carrier_max_estimate'].astype(int)\n",
    "df['category_id'] = df['category_id'].astype(int)\n",
    "df['item_price'] = df['item_price'].astype(float)\n",
    "df['quantity'] = df['quantity'].astype(int)\n",
    "df['new_weight'] = df['new_weight'].astype(int)\n",
    "df['new_declared_handling_days'] = df['new_declared_handling_days'].astype(int)"
   ]
  },
  {
   "cell_type": "code",
   "execution_count": 172,
   "id": "b1a37693",
   "metadata": {},
   "outputs": [
    {
     "name": "stdout",
     "output_type": "stream",
     "text": [
      "shipment_method_id\n",
      "category_id\n",
      "package_size\n",
      "b2c_c2c\n"
     ]
    }
   ],
   "source": [
    "# And now we do the One-Hot encodings. (I have read that it is better to do -1, 1 binary encoding than 0, 1 encoding, then im going to do that)\n",
    "\n",
    "'''for column in df.columns.tolist():\n",
    "    if df[column].dtype == 'object':\n",
    "        tmp = pd.get_dummies(df[column], prefix = column).astype(int)\n",
    "        tmp.where(tmp == 1, -1, inplace = True)\n",
    "\n",
    "        df = df.join(tmp)'''\n",
    "\n",
    "cat_cols = ['shipment_method_id', 'category_id','package_size','b2c_c2c'] \n",
    "for column in cat_cols:\n",
    "    \n",
    "    print(column)\n",
    "    tmp = pd.get_dummies(df[column], prefix = column).astype(int)\n",
    "    tmp.where(tmp == 1, -1, inplace = True)\n",
    "\n",
    "    df = df.join(tmp)"
   ]
  },
  {
   "cell_type": "code",
   "execution_count": 173,
   "id": "48a3abcd",
   "metadata": {},
   "outputs": [
    {
     "data": {
      "text/html": [
       "<div>\n",
       "<style scoped>\n",
       "    .dataframe tbody tr th:only-of-type {\n",
       "        vertical-align: middle;\n",
       "    }\n",
       "\n",
       "    .dataframe tbody tr th {\n",
       "        vertical-align: top;\n",
       "    }\n",
       "\n",
       "    .dataframe thead th {\n",
       "        text-align: right;\n",
       "    }\n",
       "</style>\n",
       "<table border=\"1\" class=\"dataframe\">\n",
       "  <thead>\n",
       "    <tr style=\"text-align: right;\">\n",
       "      <th></th>\n",
       "      <th>b2c_c2c</th>\n",
       "      <th>seller_id</th>\n",
       "      <th>declared_handling_days</th>\n",
       "      <th>acceptance_scan_timestamp</th>\n",
       "      <th>shipment_method_id</th>\n",
       "      <th>shipping_fee</th>\n",
       "      <th>carrier_min_estimate</th>\n",
       "      <th>carrier_max_estimate</th>\n",
       "      <th>item_zip</th>\n",
       "      <th>buyer_zip</th>\n",
       "      <th>...</th>\n",
       "      <th>category_id_30</th>\n",
       "      <th>category_id_31</th>\n",
       "      <th>category_id_32</th>\n",
       "      <th>package_size_LARGE_ENVELOPE</th>\n",
       "      <th>package_size_LARGE_PACKAGE</th>\n",
       "      <th>package_size_LETTER</th>\n",
       "      <th>package_size_NONE</th>\n",
       "      <th>package_size_PACKAGE_THICK_ENVELOPE</th>\n",
       "      <th>b2c_c2c_B2C</th>\n",
       "      <th>b2c_c2c_C2C</th>\n",
       "    </tr>\n",
       "    <tr>\n",
       "      <th>delivery_time_buss_days</th>\n",
       "      <th></th>\n",
       "      <th></th>\n",
       "      <th></th>\n",
       "      <th></th>\n",
       "      <th></th>\n",
       "      <th></th>\n",
       "      <th></th>\n",
       "      <th></th>\n",
       "      <th></th>\n",
       "      <th></th>\n",
       "      <th></th>\n",
       "      <th></th>\n",
       "      <th></th>\n",
       "      <th></th>\n",
       "      <th></th>\n",
       "      <th></th>\n",
       "      <th></th>\n",
       "      <th></th>\n",
       "      <th></th>\n",
       "      <th></th>\n",
       "      <th></th>\n",
       "    </tr>\n",
       "  </thead>\n",
       "  <tbody>\n",
       "    <tr>\n",
       "      <th>-50</th>\n",
       "      <td>1</td>\n",
       "      <td>1</td>\n",
       "      <td>1</td>\n",
       "      <td>1</td>\n",
       "      <td>1</td>\n",
       "      <td>1</td>\n",
       "      <td>1</td>\n",
       "      <td>1</td>\n",
       "      <td>1</td>\n",
       "      <td>1</td>\n",
       "      <td>...</td>\n",
       "      <td>1</td>\n",
       "      <td>1</td>\n",
       "      <td>1</td>\n",
       "      <td>1</td>\n",
       "      <td>1</td>\n",
       "      <td>1</td>\n",
       "      <td>1</td>\n",
       "      <td>1</td>\n",
       "      <td>1</td>\n",
       "      <td>1</td>\n",
       "    </tr>\n",
       "    <tr>\n",
       "      <th>-5</th>\n",
       "      <td>1</td>\n",
       "      <td>1</td>\n",
       "      <td>1</td>\n",
       "      <td>1</td>\n",
       "      <td>1</td>\n",
       "      <td>1</td>\n",
       "      <td>1</td>\n",
       "      <td>1</td>\n",
       "      <td>1</td>\n",
       "      <td>1</td>\n",
       "      <td>...</td>\n",
       "      <td>1</td>\n",
       "      <td>1</td>\n",
       "      <td>1</td>\n",
       "      <td>1</td>\n",
       "      <td>1</td>\n",
       "      <td>1</td>\n",
       "      <td>1</td>\n",
       "      <td>1</td>\n",
       "      <td>1</td>\n",
       "      <td>1</td>\n",
       "    </tr>\n",
       "    <tr>\n",
       "      <th>0</th>\n",
       "      <td>148</td>\n",
       "      <td>148</td>\n",
       "      <td>143</td>\n",
       "      <td>148</td>\n",
       "      <td>148</td>\n",
       "      <td>148</td>\n",
       "      <td>148</td>\n",
       "      <td>148</td>\n",
       "      <td>148</td>\n",
       "      <td>148</td>\n",
       "      <td>...</td>\n",
       "      <td>148</td>\n",
       "      <td>148</td>\n",
       "      <td>148</td>\n",
       "      <td>148</td>\n",
       "      <td>148</td>\n",
       "      <td>148</td>\n",
       "      <td>148</td>\n",
       "      <td>148</td>\n",
       "      <td>148</td>\n",
       "      <td>148</td>\n",
       "    </tr>\n",
       "    <tr>\n",
       "      <th>1</th>\n",
       "      <td>2789</td>\n",
       "      <td>2789</td>\n",
       "      <td>2639</td>\n",
       "      <td>2789</td>\n",
       "      <td>2789</td>\n",
       "      <td>2789</td>\n",
       "      <td>2789</td>\n",
       "      <td>2789</td>\n",
       "      <td>2789</td>\n",
       "      <td>2789</td>\n",
       "      <td>...</td>\n",
       "      <td>2789</td>\n",
       "      <td>2789</td>\n",
       "      <td>2789</td>\n",
       "      <td>2789</td>\n",
       "      <td>2789</td>\n",
       "      <td>2789</td>\n",
       "      <td>2789</td>\n",
       "      <td>2789</td>\n",
       "      <td>2789</td>\n",
       "      <td>2789</td>\n",
       "    </tr>\n",
       "    <tr>\n",
       "      <th>2</th>\n",
       "      <td>52587</td>\n",
       "      <td>52587</td>\n",
       "      <td>49695</td>\n",
       "      <td>52587</td>\n",
       "      <td>52587</td>\n",
       "      <td>52587</td>\n",
       "      <td>52587</td>\n",
       "      <td>52587</td>\n",
       "      <td>52587</td>\n",
       "      <td>52587</td>\n",
       "      <td>...</td>\n",
       "      <td>52587</td>\n",
       "      <td>52587</td>\n",
       "      <td>52587</td>\n",
       "      <td>52587</td>\n",
       "      <td>52587</td>\n",
       "      <td>52587</td>\n",
       "      <td>52587</td>\n",
       "      <td>52587</td>\n",
       "      <td>52587</td>\n",
       "      <td>52587</td>\n",
       "    </tr>\n",
       "    <tr>\n",
       "      <th>...</th>\n",
       "      <td>...</td>\n",
       "      <td>...</td>\n",
       "      <td>...</td>\n",
       "      <td>...</td>\n",
       "      <td>...</td>\n",
       "      <td>...</td>\n",
       "      <td>...</td>\n",
       "      <td>...</td>\n",
       "      <td>...</td>\n",
       "      <td>...</td>\n",
       "      <td>...</td>\n",
       "      <td>...</td>\n",
       "      <td>...</td>\n",
       "      <td>...</td>\n",
       "      <td>...</td>\n",
       "      <td>...</td>\n",
       "      <td>...</td>\n",
       "      <td>...</td>\n",
       "      <td>...</td>\n",
       "      <td>...</td>\n",
       "      <td>...</td>\n",
       "    </tr>\n",
       "    <tr>\n",
       "      <th>70</th>\n",
       "      <td>2</td>\n",
       "      <td>2</td>\n",
       "      <td>2</td>\n",
       "      <td>2</td>\n",
       "      <td>2</td>\n",
       "      <td>2</td>\n",
       "      <td>2</td>\n",
       "      <td>2</td>\n",
       "      <td>2</td>\n",
       "      <td>2</td>\n",
       "      <td>...</td>\n",
       "      <td>2</td>\n",
       "      <td>2</td>\n",
       "      <td>2</td>\n",
       "      <td>2</td>\n",
       "      <td>2</td>\n",
       "      <td>2</td>\n",
       "      <td>2</td>\n",
       "      <td>2</td>\n",
       "      <td>2</td>\n",
       "      <td>2</td>\n",
       "    </tr>\n",
       "    <tr>\n",
       "      <th>72</th>\n",
       "      <td>2</td>\n",
       "      <td>2</td>\n",
       "      <td>2</td>\n",
       "      <td>2</td>\n",
       "      <td>2</td>\n",
       "      <td>2</td>\n",
       "      <td>2</td>\n",
       "      <td>2</td>\n",
       "      <td>2</td>\n",
       "      <td>2</td>\n",
       "      <td>...</td>\n",
       "      <td>2</td>\n",
       "      <td>2</td>\n",
       "      <td>2</td>\n",
       "      <td>2</td>\n",
       "      <td>2</td>\n",
       "      <td>2</td>\n",
       "      <td>2</td>\n",
       "      <td>2</td>\n",
       "      <td>2</td>\n",
       "      <td>2</td>\n",
       "    </tr>\n",
       "    <tr>\n",
       "      <th>73</th>\n",
       "      <td>1</td>\n",
       "      <td>1</td>\n",
       "      <td>1</td>\n",
       "      <td>1</td>\n",
       "      <td>1</td>\n",
       "      <td>1</td>\n",
       "      <td>1</td>\n",
       "      <td>1</td>\n",
       "      <td>1</td>\n",
       "      <td>1</td>\n",
       "      <td>...</td>\n",
       "      <td>1</td>\n",
       "      <td>1</td>\n",
       "      <td>1</td>\n",
       "      <td>1</td>\n",
       "      <td>1</td>\n",
       "      <td>1</td>\n",
       "      <td>1</td>\n",
       "      <td>1</td>\n",
       "      <td>1</td>\n",
       "      <td>1</td>\n",
       "    </tr>\n",
       "    <tr>\n",
       "      <th>75</th>\n",
       "      <td>2</td>\n",
       "      <td>2</td>\n",
       "      <td>2</td>\n",
       "      <td>2</td>\n",
       "      <td>2</td>\n",
       "      <td>2</td>\n",
       "      <td>2</td>\n",
       "      <td>2</td>\n",
       "      <td>2</td>\n",
       "      <td>2</td>\n",
       "      <td>...</td>\n",
       "      <td>2</td>\n",
       "      <td>2</td>\n",
       "      <td>2</td>\n",
       "      <td>2</td>\n",
       "      <td>2</td>\n",
       "      <td>2</td>\n",
       "      <td>2</td>\n",
       "      <td>2</td>\n",
       "      <td>2</td>\n",
       "      <td>2</td>\n",
       "    </tr>\n",
       "    <tr>\n",
       "      <th>85</th>\n",
       "      <td>1</td>\n",
       "      <td>1</td>\n",
       "      <td>1</td>\n",
       "      <td>1</td>\n",
       "      <td>1</td>\n",
       "      <td>1</td>\n",
       "      <td>1</td>\n",
       "      <td>1</td>\n",
       "      <td>1</td>\n",
       "      <td>1</td>\n",
       "      <td>...</td>\n",
       "      <td>1</td>\n",
       "      <td>1</td>\n",
       "      <td>1</td>\n",
       "      <td>1</td>\n",
       "      <td>1</td>\n",
       "      <td>1</td>\n",
       "      <td>1</td>\n",
       "      <td>1</td>\n",
       "      <td>1</td>\n",
       "      <td>1</td>\n",
       "    </tr>\n",
       "  </tbody>\n",
       "</table>\n",
       "<p>75 rows × 79 columns</p>\n",
       "</div>"
      ],
      "text/plain": [
       "                         b2c_c2c  seller_id  declared_handling_days  \\\n",
       "delivery_time_buss_days                                               \n",
       "-50                            1          1                       1   \n",
       "-5                             1          1                       1   \n",
       " 0                           148        148                     143   \n",
       " 1                          2789       2789                    2639   \n",
       " 2                         52587      52587                   49695   \n",
       "...                          ...        ...                     ...   \n",
       " 70                            2          2                       2   \n",
       " 72                            2          2                       2   \n",
       " 73                            1          1                       1   \n",
       " 75                            2          2                       2   \n",
       " 85                            1          1                       1   \n",
       "\n",
       "                         acceptance_scan_timestamp  shipment_method_id  \\\n",
       "delivery_time_buss_days                                                  \n",
       "-50                                              1                   1   \n",
       "-5                                               1                   1   \n",
       " 0                                             148                 148   \n",
       " 1                                            2789                2789   \n",
       " 2                                           52587               52587   \n",
       "...                                            ...                 ...   \n",
       " 70                                              2                   2   \n",
       " 72                                              2                   2   \n",
       " 73                                              1                   1   \n",
       " 75                                              2                   2   \n",
       " 85                                              1                   1   \n",
       "\n",
       "                         shipping_fee  carrier_min_estimate  \\\n",
       "delivery_time_buss_days                                       \n",
       "-50                                 1                     1   \n",
       "-5                                  1                     1   \n",
       " 0                                148                   148   \n",
       " 1                               2789                  2789   \n",
       " 2                              52587                 52587   \n",
       "...                               ...                   ...   \n",
       " 70                                 2                     2   \n",
       " 72                                 2                     2   \n",
       " 73                                 1                     1   \n",
       " 75                                 2                     2   \n",
       " 85                                 1                     1   \n",
       "\n",
       "                         carrier_max_estimate  item_zip  buyer_zip  ...  \\\n",
       "delivery_time_buss_days                                             ...   \n",
       "-50                                         1         1          1  ...   \n",
       "-5                                          1         1          1  ...   \n",
       " 0                                        148       148        148  ...   \n",
       " 1                                       2789      2789       2789  ...   \n",
       " 2                                      52587     52587      52587  ...   \n",
       "...                                       ...       ...        ...  ...   \n",
       " 70                                         2         2          2  ...   \n",
       " 72                                         2         2          2  ...   \n",
       " 73                                         1         1          1  ...   \n",
       " 75                                         2         2          2  ...   \n",
       " 85                                         1         1          1  ...   \n",
       "\n",
       "                         category_id_30  category_id_31  category_id_32  \\\n",
       "delivery_time_buss_days                                                   \n",
       "-50                                   1               1               1   \n",
       "-5                                    1               1               1   \n",
       " 0                                  148             148             148   \n",
       " 1                                 2789            2789            2789   \n",
       " 2                                52587           52587           52587   \n",
       "...                                 ...             ...             ...   \n",
       " 70                                   2               2               2   \n",
       " 72                                   2               2               2   \n",
       " 73                                   1               1               1   \n",
       " 75                                   2               2               2   \n",
       " 85                                   1               1               1   \n",
       "\n",
       "                         package_size_LARGE_ENVELOPE  \\\n",
       "delivery_time_buss_days                                \n",
       "-50                                                1   \n",
       "-5                                                 1   \n",
       " 0                                               148   \n",
       " 1                                              2789   \n",
       " 2                                             52587   \n",
       "...                                              ...   \n",
       " 70                                                2   \n",
       " 72                                                2   \n",
       " 73                                                1   \n",
       " 75                                                2   \n",
       " 85                                                1   \n",
       "\n",
       "                         package_size_LARGE_PACKAGE  package_size_LETTER  \\\n",
       "delivery_time_buss_days                                                    \n",
       "-50                                               1                    1   \n",
       "-5                                                1                    1   \n",
       " 0                                              148                  148   \n",
       " 1                                             2789                 2789   \n",
       " 2                                            52587                52587   \n",
       "...                                             ...                  ...   \n",
       " 70                                               2                    2   \n",
       " 72                                               2                    2   \n",
       " 73                                               1                    1   \n",
       " 75                                               2                    2   \n",
       " 85                                               1                    1   \n",
       "\n",
       "                         package_size_NONE  \\\n",
       "delivery_time_buss_days                      \n",
       "-50                                      1   \n",
       "-5                                       1   \n",
       " 0                                     148   \n",
       " 1                                    2789   \n",
       " 2                                   52587   \n",
       "...                                    ...   \n",
       " 70                                      2   \n",
       " 72                                      2   \n",
       " 73                                      1   \n",
       " 75                                      2   \n",
       " 85                                      1   \n",
       "\n",
       "                         package_size_PACKAGE_THICK_ENVELOPE  b2c_c2c_B2C  \\\n",
       "delivery_time_buss_days                                                     \n",
       "-50                                                        1            1   \n",
       "-5                                                         1            1   \n",
       " 0                                                       148          148   \n",
       " 1                                                      2789         2789   \n",
       " 2                                                     52587        52587   \n",
       "...                                                      ...          ...   \n",
       " 70                                                        2            2   \n",
       " 72                                                        2            2   \n",
       " 73                                                        1            1   \n",
       " 75                                                        2            2   \n",
       " 85                                                        1            1   \n",
       "\n",
       "                         b2c_c2c_C2C  \n",
       "delivery_time_buss_days               \n",
       "-50                                1  \n",
       "-5                                 1  \n",
       " 0                               148  \n",
       " 1                              2789  \n",
       " 2                             52587  \n",
       "...                              ...  \n",
       " 70                                2  \n",
       " 72                                2  \n",
       " 73                                1  \n",
       " 75                                2  \n",
       " 85                                1  \n",
       "\n",
       "[75 rows x 79 columns]"
      ]
     },
     "execution_count": 173,
     "metadata": {},
     "output_type": "execute_result"
    }
   ],
   "source": [
    "df.groupby(['delivery_time_buss_days']).count()"
   ]
  },
  {
   "cell_type": "code",
   "execution_count": null,
   "id": "36967b1f",
   "metadata": {},
   "outputs": [],
   "source": [
    "'''handling_time = []\n",
    "delivery_time = []\n",
    "total_time_bd = []\n",
    "total_time_cd = []\n",
    "for t in range(partial.shape[0]):\n",
    "    acceptance_time = datetime.fromisoformat(partial['acceptance_scan_timestamp'][t][0:10])\n",
    "    payment_time = datetime.fromisoformat(partial['payment_datetime'][t][0:10])\n",
    "    handling_time.append(np.busday_count(partial['payment_datetime'][t][0:10], partial['acceptance_scan_timestamp'][t][0:10],holidays = hld.flatten()))\n",
    "    total_time_bd.append(np.busday_count(partial['payment_datetime'][t][0:10], partial['delivery_date'][t],holidays = hld.flatten()))\n",
    "        #if payment is made past cutoff on a weekday, it is considered next business day\n",
    "    if payment_time.hour >= 14 and payment_time.weekday() < 5:\n",
    "        handling_time[t] = handling_time[t] - 1\n",
    "        total_time_bd[t] = total_time_bd[t] - 1\n",
    "    delivery = datetime.fromisoformat(partial['delivery_date'][t]) - acceptance_time\n",
    "    total = datetime.fromisoformat(partial['delivery_date'][t]) - payment_time\n",
    "    delivery_time.append(delivery.days)\n",
    "    total_time_cd.append(total.days)\n",
    "\n",
    "df['delivery_time_buss_days'] = total_time_bd\n",
    "df.head()'''"
   ]
  },
  {
   "cell_type": "code",
   "execution_count": 174,
   "id": "80efd434",
   "metadata": {},
   "outputs": [],
   "source": [
    "# Now we normalize the data numerical data\n",
    "real_cols = ['shipping_fee',\n",
    " 'carrier_min_estimate',\n",
    " 'carrier_max_estimate',\n",
    " 'item_price',\n",
    " 'quantity',\n",
    " 'new_weight',\n",
    " 'new_declared_handling_days']\n",
    "\n",
    "for column in real_cols:\n",
    "    mean = np.mean(df[column])\n",
    "    std = np.std(df[column])\n",
    "    df[column] = (df[column] - mean)/std"
   ]
  },
  {
   "cell_type": "code",
   "execution_count": 175,
   "id": "e21fffe3",
   "metadata": {},
   "outputs": [],
   "source": [
    "# formatting the timestamps to datetime instead of strings\n",
    "\n",
    "df['acceptance_scan_timestamp'] = pd.to_datetime(df['acceptance_scan_timestamp'], format = '%Y-%m-%d %H:%M:%S', utc = True)\n",
    "df['payment_datetime'] = pd.to_datetime(df['payment_datetime'], format = '%Y-%m-%d %H:%M:%S', utc = True)\n",
    "df['delivery_date'] = pd.to_datetime(df['delivery_date'], format = '%Y-%m-%d', utc = True)\n",
    "\n",
    "\n",
    "df['acceptance_scan_timestamp seconds'] = (df['acceptance_scan_timestamp'].values.astype(np.int64)/10**9).astype(int)\n",
    "df['payment_datetime seconds'] = (df['payment_datetime'].values.astype(np.int64)/10**9).astype(int)\n",
    "df['delivery_date seconds'] = (df['delivery_date'].values.astype(np.int64)/10**9).astype(int)"
   ]
  },
  {
   "cell_type": "code",
   "execution_count": 176,
   "id": "ce214b0a",
   "metadata": {},
   "outputs": [],
   "source": [
    "# Create the True handling time column and true handling time in seconds (because then it can be used as an integer values)\n",
    "df['true handling time'] = df['acceptance_scan_timestamp'] - df['payment_datetime']\n",
    "df['true handling time seconds'] = (df['true handling time'].values.astype(np.int64)/10**9).astype(int)"
   ]
  },
  {
   "cell_type": "code",
   "execution_count": null,
   "id": "9aa083b6",
   "metadata": {},
   "outputs": [],
   "source": [
    "df.shape"
   ]
  },
  {
   "cell_type": "code",
   "execution_count": null,
   "id": "2eadb741",
   "metadata": {},
   "outputs": [],
   "source": [
    "df.columns[0:20]"
   ]
  },
  {
   "cell_type": "code",
   "execution_count": null,
   "id": "fa984e3f",
   "metadata": {},
   "outputs": [],
   "source": [
    "df.columns[21:40]\n"
   ]
  },
  {
   "cell_type": "code",
   "execution_count": null,
   "id": "35b2e381",
   "metadata": {},
   "outputs": [],
   "source": [
    "df.columns[41:60]"
   ]
  },
  {
   "cell_type": "code",
   "execution_count": null,
   "id": "7bd4fdb6",
   "metadata": {},
   "outputs": [],
   "source": [
    "df.columns[61:80]"
   ]
  },
  {
   "cell_type": "code",
   "execution_count": null,
   "id": "e06e7360",
   "metadata": {},
   "outputs": [],
   "source": [
    "df.columns[81:100]"
   ]
  },
  {
   "cell_type": "code",
   "execution_count": 177,
   "id": "b4ddea85",
   "metadata": {},
   "outputs": [],
   "source": [
    "from sklearn.neighbors import KNeighborsClassifier"
   ]
  },
  {
   "cell_type": "code",
   "execution_count": 335,
   "id": "9995906a",
   "metadata": {},
   "outputs": [],
   "source": [
    "x = df.copy()"
   ]
  },
  {
   "cell_type": "code",
   "execution_count": 179,
   "id": "35a5b365",
   "metadata": {},
   "outputs": [],
   "source": [
    "x.drop(columns = (['seller_handling_days','weight_units', 'item_zip', 'buyer_zip', 'weight', 'declared_handling_days', 'record_number','b2c_c2c','seller_id','shipment_method_id','category_id','true handling time','package_size','acceptance_scan_timestamp','payment_datetime','delivery_date','delivery_time_buss_days','delivery_date seconds']), inplace = True)"
   ]
  },
  {
   "cell_type": "code",
   "execution_count": 180,
   "id": "40bc401e",
   "metadata": {},
   "outputs": [
    {
     "data": {
      "text/html": [
       "<div>\n",
       "<style scoped>\n",
       "    .dataframe tbody tr th:only-of-type {\n",
       "        vertical-align: middle;\n",
       "    }\n",
       "\n",
       "    .dataframe tbody tr th {\n",
       "        vertical-align: top;\n",
       "    }\n",
       "\n",
       "    .dataframe thead th {\n",
       "        text-align: right;\n",
       "    }\n",
       "</style>\n",
       "<table border=\"1\" class=\"dataframe\">\n",
       "  <thead>\n",
       "    <tr style=\"text-align: right;\">\n",
       "      <th></th>\n",
       "      <th>shipping_fee</th>\n",
       "      <th>carrier_min_estimate</th>\n",
       "      <th>carrier_max_estimate</th>\n",
       "      <th>item_price</th>\n",
       "      <th>quantity</th>\n",
       "      <th>new_weight</th>\n",
       "      <th>new_declared_handling_days</th>\n",
       "      <th>shipment_method_id_0</th>\n",
       "      <th>shipment_method_id_1</th>\n",
       "      <th>shipment_method_id_2</th>\n",
       "      <th>...</th>\n",
       "      <th>package_size_LARGE_ENVELOPE</th>\n",
       "      <th>package_size_LARGE_PACKAGE</th>\n",
       "      <th>package_size_LETTER</th>\n",
       "      <th>package_size_NONE</th>\n",
       "      <th>package_size_PACKAGE_THICK_ENVELOPE</th>\n",
       "      <th>b2c_c2c_B2C</th>\n",
       "      <th>b2c_c2c_C2C</th>\n",
       "      <th>acceptance_scan_timestamp seconds</th>\n",
       "      <th>payment_datetime seconds</th>\n",
       "      <th>true handling time seconds</th>\n",
       "    </tr>\n",
       "  </thead>\n",
       "  <tbody>\n",
       "    <tr>\n",
       "      <th>0</th>\n",
       "      <td>-0.503421</td>\n",
       "      <td>0.771107</td>\n",
       "      <td>-0.374545</td>\n",
       "      <td>-0.077235</td>\n",
       "      <td>-0.126471</td>\n",
       "      <td>-0.122735</td>\n",
       "      <td>-0.004504</td>\n",
       "      <td>1</td>\n",
       "      <td>-1</td>\n",
       "      <td>-1</td>\n",
       "      <td>...</td>\n",
       "      <td>-1</td>\n",
       "      <td>-1</td>\n",
       "      <td>1</td>\n",
       "      <td>-1</td>\n",
       "      <td>-1</td>\n",
       "      <td>1</td>\n",
       "      <td>-1</td>\n",
       "      <td>1553638260</td>\n",
       "      <td>1553425009</td>\n",
       "      <td>213251</td>\n",
       "    </tr>\n",
       "    <tr>\n",
       "      <th>1</th>\n",
       "      <td>0.035381</td>\n",
       "      <td>0.771107</td>\n",
       "      <td>-0.374545</td>\n",
       "      <td>-0.149458</td>\n",
       "      <td>-0.126471</td>\n",
       "      <td>-0.087223</td>\n",
       "      <td>-0.004504</td>\n",
       "      <td>1</td>\n",
       "      <td>-1</td>\n",
       "      <td>-1</td>\n",
       "      <td>...</td>\n",
       "      <td>-1</td>\n",
       "      <td>-1</td>\n",
       "      <td>-1</td>\n",
       "      <td>-1</td>\n",
       "      <td>1</td>\n",
       "      <td>-1</td>\n",
       "      <td>1</td>\n",
       "      <td>1527969180</td>\n",
       "      <td>1527885834</td>\n",
       "      <td>83346</td>\n",
       "    </tr>\n",
       "    <tr>\n",
       "      <th>2</th>\n",
       "      <td>0.304783</td>\n",
       "      <td>0.771107</td>\n",
       "      <td>-0.374545</td>\n",
       "      <td>-0.155275</td>\n",
       "      <td>-0.126471</td>\n",
       "      <td>-0.087223</td>\n",
       "      <td>-0.521015</td>\n",
       "      <td>1</td>\n",
       "      <td>-1</td>\n",
       "      <td>-1</td>\n",
       "      <td>...</td>\n",
       "      <td>-1</td>\n",
       "      <td>-1</td>\n",
       "      <td>-1</td>\n",
       "      <td>-1</td>\n",
       "      <td>1</td>\n",
       "      <td>1</td>\n",
       "      <td>-1</td>\n",
       "      <td>1546896120</td>\n",
       "      <td>1546750920</td>\n",
       "      <td>145200</td>\n",
       "    </tr>\n",
       "    <tr>\n",
       "      <th>3</th>\n",
       "      <td>-0.503421</td>\n",
       "      <td>0.771107</td>\n",
       "      <td>-0.374545</td>\n",
       "      <td>-0.004042</td>\n",
       "      <td>-0.126471</td>\n",
       "      <td>-0.096101</td>\n",
       "      <td>-0.521015</td>\n",
       "      <td>1</td>\n",
       "      <td>-1</td>\n",
       "      <td>-1</td>\n",
       "      <td>...</td>\n",
       "      <td>-1</td>\n",
       "      <td>-1</td>\n",
       "      <td>-1</td>\n",
       "      <td>-1</td>\n",
       "      <td>1</td>\n",
       "      <td>1</td>\n",
       "      <td>-1</td>\n",
       "      <td>1545094560</td>\n",
       "      <td>1544984908</td>\n",
       "      <td>109652</td>\n",
       "    </tr>\n",
       "    <tr>\n",
       "      <th>4</th>\n",
       "      <td>-0.503421</td>\n",
       "      <td>0.771107</td>\n",
       "      <td>-0.374545</td>\n",
       "      <td>-0.105833</td>\n",
       "      <td>-0.126471</td>\n",
       "      <td>-0.140491</td>\n",
       "      <td>-0.004504</td>\n",
       "      <td>1</td>\n",
       "      <td>-1</td>\n",
       "      <td>-1</td>\n",
       "      <td>...</td>\n",
       "      <td>-1</td>\n",
       "      <td>-1</td>\n",
       "      <td>-1</td>\n",
       "      <td>-1</td>\n",
       "      <td>1</td>\n",
       "      <td>1</td>\n",
       "      <td>-1</td>\n",
       "      <td>1532735280</td>\n",
       "      <td>1532654402</td>\n",
       "      <td>80878</td>\n",
       "    </tr>\n",
       "  </tbody>\n",
       "</table>\n",
       "<p>5 rows × 67 columns</p>\n",
       "</div>"
      ],
      "text/plain": [
       "   shipping_fee  carrier_min_estimate  carrier_max_estimate  item_price  \\\n",
       "0     -0.503421              0.771107             -0.374545   -0.077235   \n",
       "1      0.035381              0.771107             -0.374545   -0.149458   \n",
       "2      0.304783              0.771107             -0.374545   -0.155275   \n",
       "3     -0.503421              0.771107             -0.374545   -0.004042   \n",
       "4     -0.503421              0.771107             -0.374545   -0.105833   \n",
       "\n",
       "   quantity  new_weight  new_declared_handling_days  shipment_method_id_0  \\\n",
       "0 -0.126471   -0.122735                   -0.004504                     1   \n",
       "1 -0.126471   -0.087223                   -0.004504                     1   \n",
       "2 -0.126471   -0.087223                   -0.521015                     1   \n",
       "3 -0.126471   -0.096101                   -0.521015                     1   \n",
       "4 -0.126471   -0.140491                   -0.004504                     1   \n",
       "\n",
       "   shipment_method_id_1  shipment_method_id_2  ...  \\\n",
       "0                    -1                    -1  ...   \n",
       "1                    -1                    -1  ...   \n",
       "2                    -1                    -1  ...   \n",
       "3                    -1                    -1  ...   \n",
       "4                    -1                    -1  ...   \n",
       "\n",
       "   package_size_LARGE_ENVELOPE  package_size_LARGE_PACKAGE  \\\n",
       "0                           -1                          -1   \n",
       "1                           -1                          -1   \n",
       "2                           -1                          -1   \n",
       "3                           -1                          -1   \n",
       "4                           -1                          -1   \n",
       "\n",
       "   package_size_LETTER  package_size_NONE  \\\n",
       "0                    1                 -1   \n",
       "1                   -1                 -1   \n",
       "2                   -1                 -1   \n",
       "3                   -1                 -1   \n",
       "4                   -1                 -1   \n",
       "\n",
       "   package_size_PACKAGE_THICK_ENVELOPE  b2c_c2c_B2C  b2c_c2c_C2C  \\\n",
       "0                                   -1            1           -1   \n",
       "1                                    1           -1            1   \n",
       "2                                    1            1           -1   \n",
       "3                                    1            1           -1   \n",
       "4                                    1            1           -1   \n",
       "\n",
       "   acceptance_scan_timestamp seconds  payment_datetime seconds  \\\n",
       "0                         1553638260                1553425009   \n",
       "1                         1527969180                1527885834   \n",
       "2                         1546896120                1546750920   \n",
       "3                         1545094560                1544984908   \n",
       "4                         1532735280                1532654402   \n",
       "\n",
       "   true handling time seconds  \n",
       "0                      213251  \n",
       "1                       83346  \n",
       "2                      145200  \n",
       "3                      109652  \n",
       "4                       80878  \n",
       "\n",
       "[5 rows x 67 columns]"
      ]
     },
     "execution_count": 180,
     "metadata": {},
     "output_type": "execute_result"
    }
   ],
   "source": [
    "x.head()"
   ]
  },
  {
   "cell_type": "code",
   "execution_count": 336,
   "id": "4e17b960",
   "metadata": {},
   "outputs": [],
   "source": [
    "test = x[200001:300000]"
   ]
  },
  {
   "cell_type": "code",
   "execution_count": 337,
   "id": "44009b7b",
   "metadata": {},
   "outputs": [
    {
     "data": {
      "text/html": [
       "<div>\n",
       "<style scoped>\n",
       "    .dataframe tbody tr th:only-of-type {\n",
       "        vertical-align: middle;\n",
       "    }\n",
       "\n",
       "    .dataframe tbody tr th {\n",
       "        vertical-align: top;\n",
       "    }\n",
       "\n",
       "    .dataframe thead th {\n",
       "        text-align: right;\n",
       "    }\n",
       "</style>\n",
       "<table border=\"1\" class=\"dataframe\">\n",
       "  <thead>\n",
       "    <tr style=\"text-align: right;\">\n",
       "      <th></th>\n",
       "      <th>b2c_c2c</th>\n",
       "      <th>seller_id</th>\n",
       "      <th>declared_handling_days</th>\n",
       "      <th>acceptance_scan_timestamp</th>\n",
       "      <th>shipment_method_id</th>\n",
       "      <th>shipping_fee</th>\n",
       "      <th>carrier_min_estimate</th>\n",
       "      <th>carrier_max_estimate</th>\n",
       "      <th>item_zip</th>\n",
       "      <th>buyer_zip</th>\n",
       "      <th>category_id</th>\n",
       "      <th>item_price</th>\n",
       "      <th>quantity</th>\n",
       "      <th>payment_datetime</th>\n",
       "      <th>delivery_date</th>\n",
       "      <th>weight</th>\n",
       "      <th>weight_units</th>\n",
       "      <th>package_size</th>\n",
       "      <th>record_number</th>\n",
       "    </tr>\n",
       "  </thead>\n",
       "  <tbody>\n",
       "    <tr>\n",
       "      <th>200001</th>\n",
       "      <td>C2C</td>\n",
       "      <td>656455</td>\n",
       "      <td>1.0</td>\n",
       "      <td>2018-05-10 20:46:00.000-04:00</td>\n",
       "      <td>0</td>\n",
       "      <td>0.00</td>\n",
       "      <td>3</td>\n",
       "      <td>5</td>\n",
       "      <td>30909</td>\n",
       "      <td>07064</td>\n",
       "      <td>7</td>\n",
       "      <td>8.99</td>\n",
       "      <td>1</td>\n",
       "      <td>2018-05-09 02:28:24.000-04:00</td>\n",
       "      <td>2018-05-14</td>\n",
       "      <td>3</td>\n",
       "      <td>1</td>\n",
       "      <td>PACKAGE_THICK_ENVELOPE</td>\n",
       "      <td>200002</td>\n",
       "    </tr>\n",
       "    <tr>\n",
       "      <th>200002</th>\n",
       "      <td>B2C</td>\n",
       "      <td>78102</td>\n",
       "      <td>1.0</td>\n",
       "      <td>2018-05-14 11:41:00.000-05:00</td>\n",
       "      <td>0</td>\n",
       "      <td>2.99</td>\n",
       "      <td>3</td>\n",
       "      <td>5</td>\n",
       "      <td>75165</td>\n",
       "      <td>76825</td>\n",
       "      <td>0</td>\n",
       "      <td>10.50</td>\n",
       "      <td>1</td>\n",
       "      <td>2018-05-14 02:17:08.000-05:00</td>\n",
       "      <td>2018-05-16</td>\n",
       "      <td>0</td>\n",
       "      <td>1</td>\n",
       "      <td>PACKAGE_THICK_ENVELOPE</td>\n",
       "      <td>200003</td>\n",
       "    </tr>\n",
       "    <tr>\n",
       "      <th>200003</th>\n",
       "      <td>B2C</td>\n",
       "      <td>1144</td>\n",
       "      <td>0.0</td>\n",
       "      <td>2019-04-24 20:57:00.000-04:00</td>\n",
       "      <td>1</td>\n",
       "      <td>0.00</td>\n",
       "      <td>2</td>\n",
       "      <td>5</td>\n",
       "      <td>33174</td>\n",
       "      <td>11416</td>\n",
       "      <td>1</td>\n",
       "      <td>22.20</td>\n",
       "      <td>1</td>\n",
       "      <td>2019-04-23 21:47:17.000-04:00</td>\n",
       "      <td>2019-04-27</td>\n",
       "      <td>0</td>\n",
       "      <td>1</td>\n",
       "      <td>PACKAGE_THICK_ENVELOPE</td>\n",
       "      <td>200004</td>\n",
       "    </tr>\n",
       "    <tr>\n",
       "      <th>200004</th>\n",
       "      <td>B2C</td>\n",
       "      <td>16984</td>\n",
       "      <td>0.0</td>\n",
       "      <td>2018-02-22 21:13:00.000-08:00</td>\n",
       "      <td>0</td>\n",
       "      <td>0.00</td>\n",
       "      <td>3</td>\n",
       "      <td>5</td>\n",
       "      <td>91791</td>\n",
       "      <td>88081</td>\n",
       "      <td>5</td>\n",
       "      <td>9.95</td>\n",
       "      <td>1</td>\n",
       "      <td>2018-02-22 11:58:35.000-08:00</td>\n",
       "      <td>2018-02-26</td>\n",
       "      <td>13</td>\n",
       "      <td>1</td>\n",
       "      <td>PACKAGE_THICK_ENVELOPE</td>\n",
       "      <td>200005</td>\n",
       "    </tr>\n",
       "    <tr>\n",
       "      <th>200005</th>\n",
       "      <td>B2C</td>\n",
       "      <td>11865</td>\n",
       "      <td>1.0</td>\n",
       "      <td>2018-05-29 12:29:00.000-04:00</td>\n",
       "      <td>1</td>\n",
       "      <td>6.99</td>\n",
       "      <td>2</td>\n",
       "      <td>5</td>\n",
       "      <td>11716</td>\n",
       "      <td>80304</td>\n",
       "      <td>9</td>\n",
       "      <td>47.99</td>\n",
       "      <td>1</td>\n",
       "      <td>2018-05-28 15:55:55.000-04:00</td>\n",
       "      <td>2018-05-31</td>\n",
       "      <td>64</td>\n",
       "      <td>1</td>\n",
       "      <td>PACKAGE_THICK_ENVELOPE</td>\n",
       "      <td>200006</td>\n",
       "    </tr>\n",
       "    <tr>\n",
       "      <th>...</th>\n",
       "      <td>...</td>\n",
       "      <td>...</td>\n",
       "      <td>...</td>\n",
       "      <td>...</td>\n",
       "      <td>...</td>\n",
       "      <td>...</td>\n",
       "      <td>...</td>\n",
       "      <td>...</td>\n",
       "      <td>...</td>\n",
       "      <td>...</td>\n",
       "      <td>...</td>\n",
       "      <td>...</td>\n",
       "      <td>...</td>\n",
       "      <td>...</td>\n",
       "      <td>...</td>\n",
       "      <td>...</td>\n",
       "      <td>...</td>\n",
       "      <td>...</td>\n",
       "      <td>...</td>\n",
       "    </tr>\n",
       "    <tr>\n",
       "      <th>299995</th>\n",
       "      <td>C2C</td>\n",
       "      <td>162981</td>\n",
       "      <td>1.0</td>\n",
       "      <td>2019-08-22 10:49:00.000-04:00</td>\n",
       "      <td>0</td>\n",
       "      <td>0.00</td>\n",
       "      <td>3</td>\n",
       "      <td>5</td>\n",
       "      <td>30096</td>\n",
       "      <td>43214</td>\n",
       "      <td>6</td>\n",
       "      <td>21.95</td>\n",
       "      <td>1</td>\n",
       "      <td>2019-08-21 20:11:07.000-04:00</td>\n",
       "      <td>2019-08-24</td>\n",
       "      <td>4</td>\n",
       "      <td>1</td>\n",
       "      <td>PACKAGE_THICK_ENVELOPE</td>\n",
       "      <td>299996</td>\n",
       "    </tr>\n",
       "    <tr>\n",
       "      <th>299996</th>\n",
       "      <td>C2C</td>\n",
       "      <td>172379</td>\n",
       "      <td>5.0</td>\n",
       "      <td>2019-02-13 00:27:00.000-05:00</td>\n",
       "      <td>0</td>\n",
       "      <td>0.00</td>\n",
       "      <td>3</td>\n",
       "      <td>5</td>\n",
       "      <td>14607</td>\n",
       "      <td>78251</td>\n",
       "      <td>6</td>\n",
       "      <td>22.00</td>\n",
       "      <td>1</td>\n",
       "      <td>2019-02-09 15:55:37.000-05:00</td>\n",
       "      <td>2019-02-14</td>\n",
       "      <td>13</td>\n",
       "      <td>1</td>\n",
       "      <td>PACKAGE_THICK_ENVELOPE</td>\n",
       "      <td>299997</td>\n",
       "    </tr>\n",
       "    <tr>\n",
       "      <th>299997</th>\n",
       "      <td>C2C</td>\n",
       "      <td>2410232</td>\n",
       "      <td>1.0</td>\n",
       "      <td>2019-02-20 10:03:00.000-08:00</td>\n",
       "      <td>1</td>\n",
       "      <td>0.00</td>\n",
       "      <td>2</td>\n",
       "      <td>5</td>\n",
       "      <td>95632</td>\n",
       "      <td>48322</td>\n",
       "      <td>7</td>\n",
       "      <td>300.00</td>\n",
       "      <td>1</td>\n",
       "      <td>2019-02-18 08:34:21.000-08:00</td>\n",
       "      <td>2019-02-22</td>\n",
       "      <td>0</td>\n",
       "      <td>1</td>\n",
       "      <td>PACKAGE_THICK_ENVELOPE</td>\n",
       "      <td>299998</td>\n",
       "    </tr>\n",
       "    <tr>\n",
       "      <th>299998</th>\n",
       "      <td>C2C</td>\n",
       "      <td>280877</td>\n",
       "      <td>1.0</td>\n",
       "      <td>2019-06-20 15:51:00.000-07:00</td>\n",
       "      <td>0</td>\n",
       "      <td>0.00</td>\n",
       "      <td>3</td>\n",
       "      <td>5</td>\n",
       "      <td>89014</td>\n",
       "      <td>50533</td>\n",
       "      <td>25</td>\n",
       "      <td>12.95</td>\n",
       "      <td>1</td>\n",
       "      <td>2019-06-19 12:29:06.000-07:00</td>\n",
       "      <td>2019-06-22</td>\n",
       "      <td>6</td>\n",
       "      <td>1</td>\n",
       "      <td>PACKAGE_THICK_ENVELOPE</td>\n",
       "      <td>299999</td>\n",
       "    </tr>\n",
       "    <tr>\n",
       "      <th>299999</th>\n",
       "      <td>B2C</td>\n",
       "      <td>13029</td>\n",
       "      <td>0.0</td>\n",
       "      <td>2019-04-17 14:44:00.000-07:00</td>\n",
       "      <td>5</td>\n",
       "      <td>0.00</td>\n",
       "      <td>2</td>\n",
       "      <td>5</td>\n",
       "      <td>91710</td>\n",
       "      <td>49329</td>\n",
       "      <td>1</td>\n",
       "      <td>23.99</td>\n",
       "      <td>1</td>\n",
       "      <td>2019-04-16 16:36:14.000-07:00</td>\n",
       "      <td>2019-04-19</td>\n",
       "      <td>21</td>\n",
       "      <td>1</td>\n",
       "      <td>PACKAGE_THICK_ENVELOPE</td>\n",
       "      <td>300000</td>\n",
       "    </tr>\n",
       "  </tbody>\n",
       "</table>\n",
       "<p>99999 rows × 19 columns</p>\n",
       "</div>"
      ],
      "text/plain": [
       "       b2c_c2c  seller_id  declared_handling_days  \\\n",
       "200001     C2C     656455                     1.0   \n",
       "200002     B2C      78102                     1.0   \n",
       "200003     B2C       1144                     0.0   \n",
       "200004     B2C      16984                     0.0   \n",
       "200005     B2C      11865                     1.0   \n",
       "...        ...        ...                     ...   \n",
       "299995     C2C     162981                     1.0   \n",
       "299996     C2C     172379                     5.0   \n",
       "299997     C2C    2410232                     1.0   \n",
       "299998     C2C     280877                     1.0   \n",
       "299999     B2C      13029                     0.0   \n",
       "\n",
       "            acceptance_scan_timestamp  shipment_method_id  shipping_fee  \\\n",
       "200001  2018-05-10 20:46:00.000-04:00                   0          0.00   \n",
       "200002  2018-05-14 11:41:00.000-05:00                   0          2.99   \n",
       "200003  2019-04-24 20:57:00.000-04:00                   1          0.00   \n",
       "200004  2018-02-22 21:13:00.000-08:00                   0          0.00   \n",
       "200005  2018-05-29 12:29:00.000-04:00                   1          6.99   \n",
       "...                               ...                 ...           ...   \n",
       "299995  2019-08-22 10:49:00.000-04:00                   0          0.00   \n",
       "299996  2019-02-13 00:27:00.000-05:00                   0          0.00   \n",
       "299997  2019-02-20 10:03:00.000-08:00                   1          0.00   \n",
       "299998  2019-06-20 15:51:00.000-07:00                   0          0.00   \n",
       "299999  2019-04-17 14:44:00.000-07:00                   5          0.00   \n",
       "\n",
       "        carrier_min_estimate  carrier_max_estimate item_zip buyer_zip  \\\n",
       "200001                     3                     5    30909     07064   \n",
       "200002                     3                     5    75165     76825   \n",
       "200003                     2                     5    33174     11416   \n",
       "200004                     3                     5    91791     88081   \n",
       "200005                     2                     5    11716     80304   \n",
       "...                      ...                   ...      ...       ...   \n",
       "299995                     3                     5    30096     43214   \n",
       "299996                     3                     5    14607     78251   \n",
       "299997                     2                     5    95632     48322   \n",
       "299998                     3                     5    89014     50533   \n",
       "299999                     2                     5    91710     49329   \n",
       "\n",
       "        category_id  item_price  quantity               payment_datetime  \\\n",
       "200001            7        8.99         1  2018-05-09 02:28:24.000-04:00   \n",
       "200002            0       10.50         1  2018-05-14 02:17:08.000-05:00   \n",
       "200003            1       22.20         1  2019-04-23 21:47:17.000-04:00   \n",
       "200004            5        9.95         1  2018-02-22 11:58:35.000-08:00   \n",
       "200005            9       47.99         1  2018-05-28 15:55:55.000-04:00   \n",
       "...             ...         ...       ...                            ...   \n",
       "299995            6       21.95         1  2019-08-21 20:11:07.000-04:00   \n",
       "299996            6       22.00         1  2019-02-09 15:55:37.000-05:00   \n",
       "299997            7      300.00         1  2019-02-18 08:34:21.000-08:00   \n",
       "299998           25       12.95         1  2019-06-19 12:29:06.000-07:00   \n",
       "299999            1       23.99         1  2019-04-16 16:36:14.000-07:00   \n",
       "\n",
       "       delivery_date  weight  weight_units            package_size  \\\n",
       "200001    2018-05-14       3             1  PACKAGE_THICK_ENVELOPE   \n",
       "200002    2018-05-16       0             1  PACKAGE_THICK_ENVELOPE   \n",
       "200003    2019-04-27       0             1  PACKAGE_THICK_ENVELOPE   \n",
       "200004    2018-02-26      13             1  PACKAGE_THICK_ENVELOPE   \n",
       "200005    2018-05-31      64             1  PACKAGE_THICK_ENVELOPE   \n",
       "...              ...     ...           ...                     ...   \n",
       "299995    2019-08-24       4             1  PACKAGE_THICK_ENVELOPE   \n",
       "299996    2019-02-14      13             1  PACKAGE_THICK_ENVELOPE   \n",
       "299997    2019-02-22       0             1  PACKAGE_THICK_ENVELOPE   \n",
       "299998    2019-06-22       6             1  PACKAGE_THICK_ENVELOPE   \n",
       "299999    2019-04-19      21             1  PACKAGE_THICK_ENVELOPE   \n",
       "\n",
       "        record_number  \n",
       "200001         200002  \n",
       "200002         200003  \n",
       "200003         200004  \n",
       "200004         200005  \n",
       "200005         200006  \n",
       "...               ...  \n",
       "299995         299996  \n",
       "299996         299997  \n",
       "299997         299998  \n",
       "299998         299999  \n",
       "299999         300000  \n",
       "\n",
       "[99999 rows x 19 columns]"
      ]
     },
     "execution_count": 337,
     "metadata": {},
     "output_type": "execute_result"
    }
   ],
   "source": [
    "test"
   ]
  },
  {
   "cell_type": "code",
   "execution_count": 182,
   "id": "3a3b9dcc",
   "metadata": {},
   "outputs": [],
   "source": [
    "x = x[0:200000]"
   ]
  },
  {
   "cell_type": "code",
   "execution_count": 183,
   "id": "25930952",
   "metadata": {},
   "outputs": [],
   "source": [
    "y = df['delivery_time_buss_days'][0:200000]"
   ]
  },
  {
   "cell_type": "code",
   "execution_count": 184,
   "id": "e713ecbe",
   "metadata": {},
   "outputs": [],
   "source": [
    "target = df['delivery_time_buss_days'][200001:300000]"
   ]
  },
  {
   "cell_type": "code",
   "execution_count": 185,
   "id": "2dd66de7",
   "metadata": {},
   "outputs": [],
   "source": [
    "neigh3 = KNeighborsClassifier(n_neighbors=3)"
   ]
  },
  {
   "cell_type": "code",
   "execution_count": 186,
   "id": "f28f26e1",
   "metadata": {},
   "outputs": [
    {
     "data": {
      "text/plain": [
       "KNeighborsClassifier(n_neighbors=3)"
      ]
     },
     "execution_count": 186,
     "metadata": {},
     "output_type": "execute_result"
    }
   ],
   "source": [
    "neigh3.fit(x, y)"
   ]
  },
  {
   "cell_type": "code",
   "execution_count": null,
   "id": "871427fa",
   "metadata": {},
   "outputs": [],
   "source": [
    "def get_loss(y_true, y_pred):\n",
    "  early = y_pred[np.where(y_pred > y_true)]\n",
    "  late = y_pred[np.where(y_pred < y_true)]\n",
    "\n",
    "  early_y_true = y_true[np.where(y_pred > y_true)]\n",
    "  late_y_true = y_true[np.where(y_pred < y_true)]\n",
    "\n",
    "  #print(early, early_y_true, late, late_y_true)\n",
    "\n",
    "  mean = np.ceil(np.ones(len(y_true))*np.mean(y_train))\n",
    "\n",
    "  early_mean = mean[np.where(mean > y_true)]\n",
    "  late_mean = mean[np.where(mean < y_true)]\n",
    "\n",
    "  early_y_true_mean = y_true[np.where(mean > y_true)]\n",
    "  late_y_true_mean = y_true[np.where(mean < y_true)]\n",
    "\n",
    "  loss = np.abs(0.4*np.sum(early_y_true - early) + 0.6*np.sum(late - late_y_true))/len(y_true)\n",
    "  loss_mean = np.abs(0.4*np.sum(early_y_true_mean - early_mean) + 0.6*np.sum(late_mean - late_y_true_mean))/len(y_true)\n",
    "  \n",
    "  #print(np.sum(early_y_true - early), np.sum(late_y_true - late))\n",
    "  #print(loss, loss_mean)\n",
    "  return loss, loss_mean"
   ]
  },
  {
   "cell_type": "code",
   "execution_count": 23,
   "id": "25dcf8d2",
   "metadata": {},
   "outputs": [
    {
     "data": {
      "text/plain": [
       "{'algorithm': 'auto',\n",
       " 'leaf_size': 30,\n",
       " 'metric': 'minkowski',\n",
       " 'metric_params': None,\n",
       " 'n_jobs': None,\n",
       " 'n_neighbors': 3,\n",
       " 'p': 2,\n",
       " 'weights': 'uniform'}"
      ]
     },
     "execution_count": 23,
     "metadata": {},
     "output_type": "execute_result"
    }
   ],
   "source": [
    "neigh3.get_params(deep=True)"
   ]
  },
  {
   "cell_type": "code",
   "execution_count": 187,
   "id": "194b6862",
   "metadata": {},
   "outputs": [
    {
     "name": "stderr",
     "output_type": "stream",
     "text": [
      "C:\\Python39\\lib\\site-packages\\sklearn\\base.py:441: UserWarning: X does not have valid feature names, but KNeighborsClassifier was fitted with feature names\n",
      "  warnings.warn(\n"
     ]
    }
   ],
   "source": [
    "y_pred = neigh3.predict(test)"
   ]
  },
  {
   "cell_type": "code",
   "execution_count": 188,
   "id": "5c12aa3e",
   "metadata": {},
   "outputs": [],
   "source": [
    "diff = y_pred - target\n",
    "df_diff = pd.DataFrame(diff).reset_index()\n",
    "df_diff.columns = ['Order', 'Difference']"
   ]
  },
  {
   "cell_type": "code",
   "execution_count": 189,
   "id": "4b4478ef",
   "metadata": {},
   "outputs": [
    {
     "data": {
      "text/plain": [
       "Text(0.5, 1.0, 'Number of instances X days off')"
      ]
     },
     "execution_count": 189,
     "metadata": {},
     "output_type": "execute_result"
    },
    {
     "data": {
      "image/png": "[encoded data removed]",
      "text/plain": [
       "<Figure size 432x288 with 1 Axes>"
      ]
     },
     "metadata": {
      "needs_background": "light"
     },
     "output_type": "display_data"
    }
   ],
   "source": [
    "hist = np.histogram(diff, bins = np.arange(-30, 30))\n",
    "plt.plot(hist[1][1:], hist[0])\n",
    "plt.xlabel('Error in the number of days for 3-NN')\n",
    "plt.ylabel('Number of instances')\n",
    "plt.title('Number of instances X days off')"
   ]
  },
  {
   "cell_type": "code",
   "execution_count": 190,
   "id": "68ec1234",
   "metadata": {},
   "outputs": [
    {
     "data": {
      "text/plain": [
       "0.43997439974399744"
      ]
     },
     "execution_count": 190,
     "metadata": {},
     "output_type": "execute_result"
    }
   ],
   "source": [
    "accuracy_score(y_pred, target)"
   ]
  },
  {
   "cell_type": "code",
   "execution_count": 191,
   "id": "dfb83a0b",
   "metadata": {},
   "outputs": [
    {
     "data": {
      "text/plain": [
       "1.098110981109811"
      ]
     },
     "execution_count": 191,
     "metadata": {},
     "output_type": "execute_result"
    }
   ],
   "source": [
    "mean_absolute_error(y_pred, target)"
   ]
  },
  {
   "cell_type": "code",
   "execution_count": 192,
   "id": "97bc1b60",
   "metadata": {},
   "outputs": [
    {
     "data": {
      "text/plain": [
       "4.088040880408804"
      ]
     },
     "execution_count": 192,
     "metadata": {},
     "output_type": "execute_result"
    }
   ],
   "source": [
    "mean_squared_error(y_pred, target)"
   ]
  },
  {
   "cell_type": "code",
   "execution_count": 357,
   "id": "8b87c9d7",
   "metadata": {},
   "outputs": [
    {
     "data": {
      "text/plain": [
       "'1    2018-06-01 13:43:54.000-07:00\\nName: payment_datetime, dtype: object'"
      ]
     },
     "execution_count": 357,
     "metadata": {},
     "output_type": "execute_result"
    }
   ],
   "source": [
    "s = df['payment_datetime']\n",
    "str(s[1:2])"
   ]
  },
  {
   "cell_type": "code",
   "execution_count": 318,
   "id": "e699d635",
   "metadata": {},
   "outputs": [],
   "source": [
    "def add_business_days(start_date, business_days_to_add):\n",
    "    del_date = []\n",
    "    for i in range(len(start_date)):\n",
    "        start = datetime.fromisoformat(start_date[i])\n",
    "        start_date.append(np.datetime64(start))          \n",
    "        del_date.append((start + BusinessDay(business_days_to_add[i])).to_datetime64())\n",
    "        hol = sum((((del_date[i] > hld_dt64)+0 + (start_date[i] < hld_dt64)+0)-2) > 0)\n",
    "        del_date[i] += BusinessDay(hol)\n",
    "    \n",
    "    return del_date"
   ]
  },
  {
   "cell_type": "code",
   "execution_count": 278,
   "id": "ec50c63d",
   "metadata": {},
   "outputs": [
    {
     "name": "stderr",
     "output_type": "stream",
     "text": [
      "C:\\Users\\winni\\AppData\\Local\\Temp/ipykernel_4484/1543783733.py:5: DeprecationWarning: parsing timezone aware datetimes is deprecated; this will raise an error in the future\n",
      "  start_date.append(np.datetime64(start))\n"
     ]
    }
   ],
   "source": [
    "del_date = []\n",
    "start_date = []\n",
    "for i in range(len(y_pred)):\n",
    "    start = datetime.fromisoformat(df['payment_datetime'][i])\n",
    "    start_date.append(np.datetime64(start))          \n",
    "    del_date.append((start + BusinessDay(y_pred[i])).to_datetime64())\n",
    "    hol = sum((((del_date[i] > hld_dt64)+0 + (start_date[i] < hld_dt64)+0)-2) > 0)\n",
    "    if hol > 0:\n",
    "        del_date[i] = del_date[i] + BusinessDay(hol)"
   ]
  },
  {
   "cell_type": "code",
   "execution_count": 297,
   "id": "2043c18b",
   "metadata": {},
   "outputs": [],
   "source": [
    "s = test['payment_datetime'].to_frame()"
   ]
  },
  {
   "cell_type": "code",
   "execution_count": 334,
   "id": "1d8d3959",
   "metadata": {},
   "outputs": [
    {
     "ename": "KeyError",
     "evalue": "1",
     "output_type": "error",
     "traceback": [
      "\u001b[1;31m---------------------------------------------------------------------------\u001b[0m",
      "\u001b[1;31mKeyError\u001b[0m                                  Traceback (most recent call last)",
      "\u001b[1;32mC:\\Python39\\lib\\site-packages\\pandas\\core\\indexes\\base.py\u001b[0m in \u001b[0;36mget_loc\u001b[1;34m(self, key, method, tolerance)\u001b[0m\n\u001b[0;32m   3360\u001b[0m             \u001b[1;32mtry\u001b[0m\u001b[1;33m:\u001b[0m\u001b[1;33m\u001b[0m\u001b[1;33m\u001b[0m\u001b[0m\n\u001b[1;32m-> 3361\u001b[1;33m                 \u001b[1;32mreturn\u001b[0m \u001b[0mself\u001b[0m\u001b[1;33m.\u001b[0m\u001b[0m_engine\u001b[0m\u001b[1;33m.\u001b[0m\u001b[0mget_loc\u001b[0m\u001b[1;33m(\u001b[0m\u001b[0mcasted_key\u001b[0m\u001b[1;33m)\u001b[0m\u001b[1;33m\u001b[0m\u001b[1;33m\u001b[0m\u001b[0m\n\u001b[0m\u001b[0;32m   3362\u001b[0m             \u001b[1;32mexcept\u001b[0m \u001b[0mKeyError\u001b[0m \u001b[1;32mas\u001b[0m \u001b[0merr\u001b[0m\u001b[1;33m:\u001b[0m\u001b[1;33m\u001b[0m\u001b[1;33m\u001b[0m\u001b[0m\n",
      "\u001b[1;32mC:\\Python39\\lib\\site-packages\\pandas\\_libs\\index.pyx\u001b[0m in \u001b[0;36mpandas._libs.index.IndexEngine.get_loc\u001b[1;34m()\u001b[0m\n",
      "\u001b[1;32mC:\\Python39\\lib\\site-packages\\pandas\\_libs\\index.pyx\u001b[0m in \u001b[0;36mpandas._libs.index.IndexEngine.get_loc\u001b[1;34m()\u001b[0m\n",
      "\u001b[1;32mpandas\\_libs\\hashtable_class_helper.pxi\u001b[0m in \u001b[0;36mpandas._libs.hashtable.PyObjectHashTable.get_item\u001b[1;34m()\u001b[0m\n",
      "\u001b[1;32mpandas\\_libs\\hashtable_class_helper.pxi\u001b[0m in \u001b[0;36mpandas._libs.hashtable.PyObjectHashTable.get_item\u001b[1;34m()\u001b[0m\n",
      "\u001b[1;31mKeyError\u001b[0m: 1",
      "\nThe above exception was the direct cause of the following exception:\n",
      "\u001b[1;31mKeyError\u001b[0m                                  Traceback (most recent call last)",
      "\u001b[1;32m~\\AppData\\Local\\Temp/ipykernel_4484/3256830806.py\u001b[0m in \u001b[0;36m<module>\u001b[1;34m\u001b[0m\n\u001b[0;32m      1\u001b[0m \u001b[0mtest\u001b[0m \u001b[1;33m=\u001b[0m \u001b[0mtest\u001b[0m\u001b[1;33m[\u001b[0m\u001b[1;33m[\u001b[0m\u001b[1;34m'payment_datetime'\u001b[0m\u001b[1;33m]\u001b[0m\u001b[1;33m]\u001b[0m\u001b[1;33m\u001b[0m\u001b[1;33m\u001b[0m\u001b[0m\n\u001b[1;32m----> 2\u001b[1;33m \u001b[0mtest\u001b[0m\u001b[1;33m[\u001b[0m\u001b[1;36m1\u001b[0m\u001b[1;33m]\u001b[0m\u001b[1;33m\u001b[0m\u001b[1;33m\u001b[0m\u001b[0m\n\u001b[0m",
      "\u001b[1;32mC:\\Python39\\lib\\site-packages\\pandas\\core\\frame.py\u001b[0m in \u001b[0;36m__getitem__\u001b[1;34m(self, key)\u001b[0m\n\u001b[0;32m   3456\u001b[0m             \u001b[1;32mif\u001b[0m \u001b[0mself\u001b[0m\u001b[1;33m.\u001b[0m\u001b[0mcolumns\u001b[0m\u001b[1;33m.\u001b[0m\u001b[0mnlevels\u001b[0m \u001b[1;33m>\u001b[0m \u001b[1;36m1\u001b[0m\u001b[1;33m:\u001b[0m\u001b[1;33m\u001b[0m\u001b[1;33m\u001b[0m\u001b[0m\n\u001b[0;32m   3457\u001b[0m                 \u001b[1;32mreturn\u001b[0m \u001b[0mself\u001b[0m\u001b[1;33m.\u001b[0m\u001b[0m_getitem_multilevel\u001b[0m\u001b[1;33m(\u001b[0m\u001b[0mkey\u001b[0m\u001b[1;33m)\u001b[0m\u001b[1;33m\u001b[0m\u001b[1;33m\u001b[0m\u001b[0m\n\u001b[1;32m-> 3458\u001b[1;33m             \u001b[0mindexer\u001b[0m \u001b[1;33m=\u001b[0m \u001b[0mself\u001b[0m\u001b[1;33m.\u001b[0m\u001b[0mcolumns\u001b[0m\u001b[1;33m.\u001b[0m\u001b[0mget_loc\u001b[0m\u001b[1;33m(\u001b[0m\u001b[0mkey\u001b[0m\u001b[1;33m)\u001b[0m\u001b[1;33m\u001b[0m\u001b[1;33m\u001b[0m\u001b[0m\n\u001b[0m\u001b[0;32m   3459\u001b[0m             \u001b[1;32mif\u001b[0m \u001b[0mis_integer\u001b[0m\u001b[1;33m(\u001b[0m\u001b[0mindexer\u001b[0m\u001b[1;33m)\u001b[0m\u001b[1;33m:\u001b[0m\u001b[1;33m\u001b[0m\u001b[1;33m\u001b[0m\u001b[0m\n\u001b[0;32m   3460\u001b[0m                 \u001b[0mindexer\u001b[0m \u001b[1;33m=\u001b[0m \u001b[1;33m[\u001b[0m\u001b[0mindexer\u001b[0m\u001b[1;33m]\u001b[0m\u001b[1;33m\u001b[0m\u001b[1;33m\u001b[0m\u001b[0m\n",
      "\u001b[1;32mC:\\Python39\\lib\\site-packages\\pandas\\core\\indexes\\base.py\u001b[0m in \u001b[0;36mget_loc\u001b[1;34m(self, key, method, tolerance)\u001b[0m\n\u001b[0;32m   3361\u001b[0m                 \u001b[1;32mreturn\u001b[0m \u001b[0mself\u001b[0m\u001b[1;33m.\u001b[0m\u001b[0m_engine\u001b[0m\u001b[1;33m.\u001b[0m\u001b[0mget_loc\u001b[0m\u001b[1;33m(\u001b[0m\u001b[0mcasted_key\u001b[0m\u001b[1;33m)\u001b[0m\u001b[1;33m\u001b[0m\u001b[1;33m\u001b[0m\u001b[0m\n\u001b[0;32m   3362\u001b[0m             \u001b[1;32mexcept\u001b[0m \u001b[0mKeyError\u001b[0m \u001b[1;32mas\u001b[0m \u001b[0merr\u001b[0m\u001b[1;33m:\u001b[0m\u001b[1;33m\u001b[0m\u001b[1;33m\u001b[0m\u001b[0m\n\u001b[1;32m-> 3363\u001b[1;33m                 \u001b[1;32mraise\u001b[0m \u001b[0mKeyError\u001b[0m\u001b[1;33m(\u001b[0m\u001b[0mkey\u001b[0m\u001b[1;33m)\u001b[0m \u001b[1;32mfrom\u001b[0m \u001b[0merr\u001b[0m\u001b[1;33m\u001b[0m\u001b[1;33m\u001b[0m\u001b[0m\n\u001b[0m\u001b[0;32m   3364\u001b[0m \u001b[1;33m\u001b[0m\u001b[0m\n\u001b[0;32m   3365\u001b[0m         \u001b[1;32mif\u001b[0m \u001b[0mis_scalar\u001b[0m\u001b[1;33m(\u001b[0m\u001b[0mkey\u001b[0m\u001b[1;33m)\u001b[0m \u001b[1;32mand\u001b[0m \u001b[0misna\u001b[0m\u001b[1;33m(\u001b[0m\u001b[0mkey\u001b[0m\u001b[1;33m)\u001b[0m \u001b[1;32mand\u001b[0m \u001b[1;32mnot\u001b[0m \u001b[0mself\u001b[0m\u001b[1;33m.\u001b[0m\u001b[0mhasnans\u001b[0m\u001b[1;33m:\u001b[0m\u001b[1;33m\u001b[0m\u001b[1;33m\u001b[0m\u001b[0m\n",
      "\u001b[1;31mKeyError\u001b[0m: 1"
     ]
    }
   ],
   "source": [
    "test = test[['payment_datetime']][1]"
   ]
  },
  {
   "cell_type": "code",
   "execution_count": 317,
   "id": "59b2b8cf",
   "metadata": {},
   "outputs": [],
   "source": [
    "delivery_date = add_business_days(s, y_pred)\n",
    "delivery_date"
   ]
  },
  {
   "cell_type": "code",
   "execution_count": 31,
   "id": "5dff0bcc",
   "metadata": {},
   "outputs": [
    {
     "name": "stderr",
     "output_type": "stream",
     "text": [
      "C:\\Python39\\lib\\site-packages\\sklearn\\base.py:441: UserWarning: X does not have valid feature names, but KNeighborsClassifier was fitted with feature names\n",
      "  warnings.warn(\n"
     ]
    }
   ],
   "source": [
    "neigh5 = KNeighborsClassifier(n_neighbors=5)\n",
    "neigh5.fit(x, y)\n",
    "y_pred_5NN = neigh5.predict(test)"
   ]
  },
  {
   "cell_type": "code",
   "execution_count": 32,
   "id": "98508647",
   "metadata": {},
   "outputs": [
    {
     "data": {
      "text/html": [
       "<div>\n",
       "<style scoped>\n",
       "    .dataframe tbody tr th:only-of-type {\n",
       "        vertical-align: middle;\n",
       "    }\n",
       "\n",
       "    .dataframe tbody tr th {\n",
       "        vertical-align: top;\n",
       "    }\n",
       "\n",
       "    .dataframe thead th {\n",
       "        text-align: right;\n",
       "    }\n",
       "</style>\n",
       "<table border=\"1\" class=\"dataframe\">\n",
       "  <thead>\n",
       "    <tr style=\"text-align: right;\">\n",
       "      <th></th>\n",
       "      <th>Order</th>\n",
       "    </tr>\n",
       "    <tr>\n",
       "      <th>Difference</th>\n",
       "      <th></th>\n",
       "    </tr>\n",
       "  </thead>\n",
       "  <tbody>\n",
       "    <tr>\n",
       "      <th>-5</th>\n",
       "      <td>1425</td>\n",
       "    </tr>\n",
       "    <tr>\n",
       "      <th>-4</th>\n",
       "      <td>2337</td>\n",
       "    </tr>\n",
       "    <tr>\n",
       "      <th>-3</th>\n",
       "      <td>4282</td>\n",
       "    </tr>\n",
       "    <tr>\n",
       "      <th>-2</th>\n",
       "      <td>9386</td>\n",
       "    </tr>\n",
       "    <tr>\n",
       "      <th>-1</th>\n",
       "      <td>18360</td>\n",
       "    </tr>\n",
       "    <tr>\n",
       "      <th>0</th>\n",
       "      <td>46553</td>\n",
       "    </tr>\n",
       "    <tr>\n",
       "      <th>1</th>\n",
       "      <td>10930</td>\n",
       "    </tr>\n",
       "    <tr>\n",
       "      <th>2</th>\n",
       "      <td>3687</td>\n",
       "    </tr>\n",
       "    <tr>\n",
       "      <th>3</th>\n",
       "      <td>958</td>\n",
       "    </tr>\n",
       "    <tr>\n",
       "      <th>4</th>\n",
       "      <td>245</td>\n",
       "    </tr>\n",
       "  </tbody>\n",
       "</table>\n",
       "</div>"
      ],
      "text/plain": [
       "            Order\n",
       "Difference       \n",
       "-5           1425\n",
       "-4           2337\n",
       "-3           4282\n",
       "-2           9386\n",
       "-1          18360\n",
       " 0          46553\n",
       " 1          10930\n",
       " 2           3687\n",
       " 3            958\n",
       " 4            245"
      ]
     },
     "execution_count": 32,
     "metadata": {},
     "output_type": "execute_result"
    }
   ],
   "source": [
    "diff_5NN = y_pred_5NN - target\n",
    "df_diff_5NN = pd.DataFrame(diff_5NN).reset_index()\n",
    "df_diff_5NN.columns = ['Order', 'Difference']"
   ]
  },
  {
   "cell_type": "code",
   "execution_count": 49,
   "id": "ad300c32",
   "metadata": {},
   "outputs": [
    {
     "data": {
      "text/plain": [
       "Text(0.5, 1.0, 'Number of instances X days off')"
      ]
     },
     "execution_count": 49,
     "metadata": {},
     "output_type": "execute_result"
    },
    {
     "data": {
      "image/png": "[encoded data removed]",
      "text/plain": [
       "<Figure size 432x288 with 1 Axes>"
      ]
     },
     "metadata": {
      "needs_background": "light"
     },
     "output_type": "display_data"
    }
   ],
   "source": [
    "hist5 = np.histogram(diff_5NN, bins = np.arange(-30, 30))\n",
    "plt.plot(hist5[1][1:], hist5[0])\n",
    "plt.xlabel('Error in the number of days for 5-NN')\n",
    "plt.ylabel('Number of instances')\n",
    "plt.title('Number of instances X days off')"
   ]
  },
  {
   "cell_type": "code",
   "execution_count": 50,
   "id": "33b98e78",
   "metadata": {},
   "outputs": [
    {
     "data": {
      "text/plain": [
       "0.46553465534655347"
      ]
     },
     "execution_count": 50,
     "metadata": {},
     "output_type": "execute_result"
    }
   ],
   "source": [
    "accuracy_score(y_pred_5NN, target)"
   ]
  },
  {
   "cell_type": "code",
   "execution_count": 51,
   "id": "f0728bf1",
   "metadata": {},
   "outputs": [
    {
     "data": {
      "text/plain": [
       "1.041370413704137"
      ]
     },
     "execution_count": 51,
     "metadata": {},
     "output_type": "execute_result"
    }
   ],
   "source": [
    "mean_absolute_error(y_pred_5NN, target)"
   ]
  },
  {
   "cell_type": "code",
   "execution_count": 52,
   "id": "2898903b",
   "metadata": {},
   "outputs": [
    {
     "data": {
      "text/plain": [
       "3.9147191471914717"
      ]
     },
     "execution_count": 52,
     "metadata": {},
     "output_type": "execute_result"
    }
   ],
   "source": [
    "mean_squared_error(y_pred_5NN, target)"
   ]
  },
  {
   "cell_type": "code",
   "execution_count": 36,
   "id": "5fc0c852",
   "metadata": {},
   "outputs": [
    {
     "name": "stderr",
     "output_type": "stream",
     "text": [
      "C:\\Python39\\lib\\site-packages\\sklearn\\base.py:441: UserWarning: X does not have valid feature names, but KNeighborsClassifier was fitted with feature names\n",
      "  warnings.warn(\n"
     ]
    }
   ],
   "source": [
    "neigh10 = KNeighborsClassifier(n_neighbors=10)\n",
    "neigh10.fit(x,y)\n",
    "y_pred_10NN = neigh10.predict(test)"
   ]
  },
  {
   "cell_type": "code",
   "execution_count": 37,
   "id": "47026f22",
   "metadata": {},
   "outputs": [
    {
     "data": {
      "text/html": [
       "<div>\n",
       "<style scoped>\n",
       "    .dataframe tbody tr th:only-of-type {\n",
       "        vertical-align: middle;\n",
       "    }\n",
       "\n",
       "    .dataframe tbody tr th {\n",
       "        vertical-align: top;\n",
       "    }\n",
       "\n",
       "    .dataframe thead th {\n",
       "        text-align: right;\n",
       "    }\n",
       "</style>\n",
       "<table border=\"1\" class=\"dataframe\">\n",
       "  <thead>\n",
       "    <tr style=\"text-align: right;\">\n",
       "      <th></th>\n",
       "      <th>Order</th>\n",
       "    </tr>\n",
       "    <tr>\n",
       "      <th>Difference</th>\n",
       "      <th></th>\n",
       "    </tr>\n",
       "  </thead>\n",
       "  <tbody>\n",
       "    <tr>\n",
       "      <th>-4</th>\n",
       "      <td>2401</td>\n",
       "    </tr>\n",
       "    <tr>\n",
       "      <th>-3</th>\n",
       "      <td>4390</td>\n",
       "    </tr>\n",
       "    <tr>\n",
       "      <th>-2</th>\n",
       "      <td>9477</td>\n",
       "    </tr>\n",
       "    <tr>\n",
       "      <th>-1</th>\n",
       "      <td>18612</td>\n",
       "    </tr>\n",
       "    <tr>\n",
       "      <th>0</th>\n",
       "      <td>48032</td>\n",
       "    </tr>\n",
       "    <tr>\n",
       "      <th>1</th>\n",
       "      <td>10028</td>\n",
       "    </tr>\n",
       "    <tr>\n",
       "      <th>2</th>\n",
       "      <td>3097</td>\n",
       "    </tr>\n",
       "    <tr>\n",
       "      <th>3</th>\n",
       "      <td>678</td>\n",
       "    </tr>\n",
       "    <tr>\n",
       "      <th>4</th>\n",
       "      <td>97</td>\n",
       "    </tr>\n",
       "    <tr>\n",
       "      <th>5</th>\n",
       "      <td>29</td>\n",
       "    </tr>\n",
       "  </tbody>\n",
       "</table>\n",
       "</div>"
      ],
      "text/plain": [
       "            Order\n",
       "Difference       \n",
       "-4           2401\n",
       "-3           4390\n",
       "-2           9477\n",
       "-1          18612\n",
       " 0          48032\n",
       " 1          10028\n",
       " 2           3097\n",
       " 3            678\n",
       " 4             97\n",
       " 5             29"
      ]
     },
     "execution_count": 37,
     "metadata": {},
     "output_type": "execute_result"
    }
   ],
   "source": [
    "diff_10NN = y_pred_10NN - target\n",
    "df_diff_10NN = pd.DataFrame(diff_10NN).reset_index()\n",
    "df_diff_10NN.columns = ['Order', 'Difference']"
   ]
  },
  {
   "cell_type": "code",
   "execution_count": 57,
   "id": "cc270166",
   "metadata": {},
   "outputs": [
    {
     "data": {
      "text/plain": [
       "Text(0.5, 1.0, 'Number of instances X days off')"
      ]
     },
     "execution_count": 57,
     "metadata": {},
     "output_type": "execute_result"
    },
    {
     "data": {
      "image/png": "[encoded data removed]",
      "text/plain": [
       "<Figure size 432x288 with 1 Axes>"
      ]
     },
     "metadata": {
      "needs_background": "light"
     },
     "output_type": "display_data"
    }
   ],
   "source": [
    "hist10 = np.histogram(diff_10NN, bins = np.arange(-30, 30))\n",
    "plt.plot(hist10[1][1:], hist10[0])\n",
    "plt.xlabel('Error in the number of days for 10-NN')\n",
    "plt.ylabel('Number of instances')\n",
    "plt.title('Number of instances X days off')"
   ]
  },
  {
   "cell_type": "code",
   "execution_count": 54,
   "id": "c86e2d98",
   "metadata": {},
   "outputs": [
    {
     "data": {
      "text/plain": [
       "0.4803248032480325"
      ]
     },
     "execution_count": 54,
     "metadata": {},
     "output_type": "execute_result"
    }
   ],
   "source": [
    "accuracy_score(y_pred_10NN, target)"
   ]
  },
  {
   "cell_type": "code",
   "execution_count": 55,
   "id": "2cea4d99",
   "metadata": {},
   "outputs": [
    {
     "data": {
      "text/plain": [
       "1.0107101071010711"
      ]
     },
     "execution_count": 55,
     "metadata": {},
     "output_type": "execute_result"
    }
   ],
   "source": [
    "mean_absolute_error(y_pred_10NN, target)"
   ]
  },
  {
   "cell_type": "code",
   "execution_count": 56,
   "id": "799af2df",
   "metadata": {},
   "outputs": [
    {
     "data": {
      "text/plain": [
       "3.7722777227772277"
      ]
     },
     "execution_count": 56,
     "metadata": {},
     "output_type": "execute_result"
    }
   ],
   "source": [
    "mean_squared_error(y_pred_10NN, target)"
   ]
  },
  {
   "cell_type": "code",
   "execution_count": 58,
   "id": "18173414",
   "metadata": {},
   "outputs": [
    {
     "name": "stderr",
     "output_type": "stream",
     "text": [
      "C:\\Python39\\lib\\site-packages\\sklearn\\base.py:441: UserWarning: X does not have valid feature names, but KNeighborsClassifier was fitted with feature names\n",
      "  warnings.warn(\n"
     ]
    }
   ],
   "source": [
    "neigh_manhattan = KNeighborsClassifier(n_neighbors=3, p=1)\n",
    "neigh_manhattan.fit(x, y)\n",
    "y_pred_manhattan = neigh_manhattan.predict(test)"
   ]
  },
  {
   "cell_type": "code",
   "execution_count": 59,
   "id": "5e83b2f8",
   "metadata": {},
   "outputs": [],
   "source": [
    "diff_manhatty_pred_manhattanred_manhattan - target"
   ]
  },
  {
   "cell_type": "code",
   "execution_count": 60,
   "id": "6764ca95",
   "metadata": {},
   "outputs": [
    {
     "data": {
      "text/plain": [
       "Text(0.5, 1.0, 'Number of instances X days off')"
      ]
     },
     "execution_count": 60,
     "metadata": {},
     "output_type": "execute_result"
    },
    {
     "data": {
      "image/png": "[encoded data removed]",
      "text/plain": [
       "<Figure size 432x288 with 1 Axes>"
      ]
     },
     "metadata": {
      "needs_background": "light"
     },
     "output_type": "display_data"
    }
   ],
   "source": [
    "hist_man = np.histogram(diff_manhattan, bins = np.arange(-30, 30))\n",
    "plt.plot(hist_man[1][1:], hist_man[0])\n",
    "plt.xlabel('Error in the number of days for 3-NN with Manhattan distance')\n",
    "plt.ylabel('Number of instances')\n",
    "plt.title('Number of instances X days off')\n"
   ]
  },
  {
   "cell_type": "code",
   "execution_count": 61,
   "id": "b4e3cd02",
   "metadata": {},
   "outputs": [
    {
     "data": {
      "text/plain": [
       "0.44111441114411143"
      ]
     },
     "execution_count": 61,
     "metadata": {},
     "output_type": "execute_result"
    }
   ],
   "source": [
    "accuracy_score(y_pred_manhattan, target)"
   ]
  },
  {
   "cell_type": "code",
   "execution_count": 62,
   "id": "43b24ef8",
   "metadata": {},
   "outputs": [
    {
     "data": {
      "text/plain": [
       "1.095320953209532"
      ]
     },
     "execution_count": 62,
     "metadata": {},
     "output_type": "execute_result"
    }
   ],
   "source": [
    "mean_absolute_error(y_pred_manhattan, target)"
   ]
  },
  {
   "cell_type": "code",
   "execution_count": 63,
   "id": "8c662e0f",
   "metadata": {},
   "outputs": [
    {
     "data": {
      "text/plain": [
       "4.049250492504925"
      ]
     },
     "execution_count": 63,
     "metadata": {},
     "output_type": "execute_result"
    }
   ],
   "source": [
    "mean_squared_error(y_pred_manhattan, target)"
   ]
  }
 ],
 "metadata": {
  "kernelspec": {
   "display_name": "Python 3 (ipykernel)",
   "language": "python",
   "name": "python3"
  },
  "language_info": {
   "codemirror_mode": {
    "name": "ipython",
    "version": 3
   },
   "file_extension": ".py",
   "mimetype": "text/x-python",
   "name": "python",
   "nbconvert_exporter": "python",
   "pygments_lexer": "ipython3",
   "version": "3.9.7"
  }
 },
 "nbformat": 4,
 "nbformat_minor": 5
}
